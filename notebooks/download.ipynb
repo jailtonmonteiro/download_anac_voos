{
 "cells": [
  {
   "cell_type": "markdown",
   "id": "0d9ecd2f",
   "metadata": {},
   "source": [
    "# Download de dados de voos anac"
   ]
  },
  {
   "cell_type": "code",
   "execution_count": 37,
   "id": "57dd064b",
   "metadata": {},
   "outputs": [],
   "source": [
    "import pandas as pd"
   ]
  },
  {
   "cell_type": "code",
   "execution_count": 38,
   "id": "db1aa598",
   "metadata": {},
   "outputs": [
    {
     "data": {
      "text/plain": [
       "'https://sistemas.anac.gov.br/dadosabertos/Voos%20e%20opera%C3%A7%C3%B5es%20a%C3%A9reas/Voo%20Regular%20Ativo%20%28VRA%29/2000/01%20-%20Janeiro/VRA_20001.csv'"
      ]
     },
     "execution_count": 38,
     "metadata": {},
     "output_type": "execute_result"
    }
   ],
   "source": [
    "ano = 2000\n",
    "mes = '01%20-%20Janeiro'\n",
    "arquivo = f'VRA_{ano}1.csv'\n",
    "url = f'https://sistemas.anac.gov.br/dadosabertos/Voos%20e%20opera%C3%A7%C3%B5es%20a%C3%A9reas/Voo%20Regular%20Ativo%20%28VRA%29/{ano}/{mes}/{arquivo}'\n",
    "url"
   ]
  },
  {
   "cell_type": "code",
   "execution_count": 42,
   "id": "21d2a1a0",
   "metadata": {},
   "outputs": [],
   "source": [
    "df = pd.read_csv(url, sep=';', header=1)"
   ]
  },
  {
   "cell_type": "code",
   "execution_count": 45,
   "id": "00fa1cc8",
   "metadata": {},
   "outputs": [
    {
     "name": "stdout",
     "output_type": "stream",
     "text": [
      "<class 'pandas.core.frame.DataFrame'>\n",
      "RangeIndex: 79792 entries, 0 to 79791\n",
      "Data columns (total 12 columns):\n",
      " #   Column                   Non-Null Count  Dtype \n",
      "---  ------                   --------------  ----- \n",
      " 0   ICAO Empresa Aérea       79792 non-null  object\n",
      " 1   Número Voo               79792 non-null  int64 \n",
      " 2   Código Autorização (DI)  79792 non-null  int64 \n",
      " 3   Código Tipo Linha        79792 non-null  object\n",
      " 4   ICAO Aeródromo Origem    79792 non-null  object\n",
      " 5   ICAO Aeródromo Destino   79792 non-null  object\n",
      " 6   Partida Prevista         70879 non-null  object\n",
      " 7   Partida Real             20656 non-null  object\n",
      " 8   Chegada Prevista         70878 non-null  object\n",
      " 9   Chegada Real             20656 non-null  object\n",
      " 10  Situação Voo             79792 non-null  object\n",
      " 11  Código Justificativa     19680 non-null  object\n",
      "dtypes: int64(2), object(10)\n",
      "memory usage: 7.3+ MB\n"
     ]
    }
   ],
   "source": [
    "df.info()"
   ]
  },
  {
   "cell_type": "code",
   "execution_count": 47,
   "id": "599d56dd",
   "metadata": {},
   "outputs": [
    {
     "data": {
      "text/html": [
       "<div>\n",
       "<style scoped>\n",
       "    .dataframe tbody tr th:only-of-type {\n",
       "        vertical-align: middle;\n",
       "    }\n",
       "\n",
       "    .dataframe tbody tr th {\n",
       "        vertical-align: top;\n",
       "    }\n",
       "\n",
       "    .dataframe thead th {\n",
       "        text-align: right;\n",
       "    }\n",
       "</style>\n",
       "<table border=\"1\" class=\"dataframe\">\n",
       "  <thead>\n",
       "    <tr style=\"text-align: right;\">\n",
       "      <th></th>\n",
       "      <th>ICAO Empresa Aérea</th>\n",
       "      <th>Número Voo</th>\n",
       "      <th>Código Autorização (DI)</th>\n",
       "      <th>Código Tipo Linha</th>\n",
       "      <th>ICAO Aeródromo Origem</th>\n",
       "      <th>ICAO Aeródromo Destino</th>\n",
       "      <th>Partida Prevista</th>\n",
       "      <th>Partida Real</th>\n",
       "      <th>Chegada Prevista</th>\n",
       "      <th>Chegada Real</th>\n",
       "      <th>Situação Voo</th>\n",
       "      <th>Código Justificativa</th>\n",
       "    </tr>\n",
       "  </thead>\n",
       "  <tbody>\n",
       "    <tr>\n",
       "      <th>0</th>\n",
       "      <td>TAM</td>\n",
       "      <td>4660</td>\n",
       "      <td>0</td>\n",
       "      <td>R</td>\n",
       "      <td>SBCX</td>\n",
       "      <td>SBCT</td>\n",
       "      <td>01/01/2000 05:45</td>\n",
       "      <td>NaN</td>\n",
       "      <td>01/01/2000 06:37</td>\n",
       "      <td>NaN</td>\n",
       "      <td>CANCELADO</td>\n",
       "      <td>XS</td>\n",
       "    </tr>\n",
       "    <tr>\n",
       "      <th>1</th>\n",
       "      <td>VRG</td>\n",
       "      <td>8710</td>\n",
       "      <td>0</td>\n",
       "      <td>I</td>\n",
       "      <td>MMMX</td>\n",
       "      <td>SBEG</td>\n",
       "      <td>01/01/2000 19:00</td>\n",
       "      <td>NaN</td>\n",
       "      <td>02/01/2000 01:25</td>\n",
       "      <td>NaN</td>\n",
       "      <td>REALIZADO</td>\n",
       "      <td>NaN</td>\n",
       "    </tr>\n",
       "    <tr>\n",
       "      <th>2</th>\n",
       "      <td>BLC</td>\n",
       "      <td>8250</td>\n",
       "      <td>0</td>\n",
       "      <td>N</td>\n",
       "      <td>SBBR</td>\n",
       "      <td>SBGO</td>\n",
       "      <td>01/01/2000 20:04</td>\n",
       "      <td>NaN</td>\n",
       "      <td>01/01/2000 20:30</td>\n",
       "      <td>NaN</td>\n",
       "      <td>REALIZADO</td>\n",
       "      <td>NaN</td>\n",
       "    </tr>\n",
       "    <tr>\n",
       "      <th>3</th>\n",
       "      <td>BLC</td>\n",
       "      <td>241</td>\n",
       "      <td>9</td>\n",
       "      <td>R</td>\n",
       "      <td>SBSP</td>\n",
       "      <td>SBKP</td>\n",
       "      <td>NaN</td>\n",
       "      <td>01/01/2000 22:06</td>\n",
       "      <td>NaN</td>\n",
       "      <td>01/01/2000 22:45</td>\n",
       "      <td>REALIZADO</td>\n",
       "      <td>NaN</td>\n",
       "    </tr>\n",
       "    <tr>\n",
       "      <th>4</th>\n",
       "      <td>RSL</td>\n",
       "      <td>7161</td>\n",
       "      <td>9</td>\n",
       "      <td>R</td>\n",
       "      <td>SBRJ</td>\n",
       "      <td>SBCF</td>\n",
       "      <td>NaN</td>\n",
       "      <td>01/01/2000 10:46</td>\n",
       "      <td>NaN</td>\n",
       "      <td>01/01/2000 11:35</td>\n",
       "      <td>REALIZADO</td>\n",
       "      <td>NaN</td>\n",
       "    </tr>\n",
       "  </tbody>\n",
       "</table>\n",
       "</div>"
      ],
      "text/plain": [
       "  ICAO Empresa Aérea  Número Voo  Código Autorização (DI) Código Tipo Linha  \\\n",
       "0                TAM        4660                        0                 R   \n",
       "1                VRG        8710                        0                 I   \n",
       "2                BLC        8250                        0                 N   \n",
       "3                BLC         241                        9                 R   \n",
       "4                RSL        7161                        9                 R   \n",
       "\n",
       "  ICAO Aeródromo Origem ICAO Aeródromo Destino  Partida Prevista  \\\n",
       "0                  SBCX                   SBCT  01/01/2000 05:45   \n",
       "1                  MMMX                   SBEG  01/01/2000 19:00   \n",
       "2                  SBBR                   SBGO  01/01/2000 20:04   \n",
       "3                  SBSP                   SBKP               NaN   \n",
       "4                  SBRJ                   SBCF               NaN   \n",
       "\n",
       "       Partida Real  Chegada Prevista      Chegada Real Situação Voo  \\\n",
       "0               NaN  01/01/2000 06:37               NaN    CANCELADO   \n",
       "1               NaN  02/01/2000 01:25               NaN    REALIZADO   \n",
       "2               NaN  01/01/2000 20:30               NaN    REALIZADO   \n",
       "3  01/01/2000 22:06               NaN  01/01/2000 22:45    REALIZADO   \n",
       "4  01/01/2000 10:46               NaN  01/01/2000 11:35    REALIZADO   \n",
       "\n",
       "  Código Justificativa  \n",
       "0                   XS  \n",
       "1                  NaN  \n",
       "2                  NaN  \n",
       "3                  NaN  \n",
       "4                  NaN  "
      ]
     },
     "execution_count": 47,
     "metadata": {},
     "output_type": "execute_result"
    }
   ],
   "source": [
    "df.head()"
   ]
  },
  {
   "cell_type": "code",
   "execution_count": 48,
   "id": "b800d99d",
   "metadata": {},
   "outputs": [],
   "source": [
    "df.to_csv(f'../data/raw/{arquivo}', sep=';')"
   ]
  }
 ],
 "metadata": {
  "kernelspec": {
   "display_name": "Python 3",
   "language": "python",
   "name": "python3"
  },
  "language_info": {
   "codemirror_mode": {
    "name": "ipython",
    "version": 3
   },
   "file_extension": ".py",
   "mimetype": "text/x-python",
   "name": "python",
   "nbconvert_exporter": "python",
   "pygments_lexer": "ipython3",
   "version": "3.13.7"
  }
 },
 "nbformat": 4,
 "nbformat_minor": 5
}
